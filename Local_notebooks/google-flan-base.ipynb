{
 "cells": [
  {
   "cell_type": "code",
   "execution_count": 1,
   "id": "bca64a5a-08a2-47e7-99ec-6516eae2a50a",
   "metadata": {},
   "outputs": [],
   "source": [
    "from transformers import T5Tokenizer, T5ForConditionalGeneration, Trainer, TrainingArguments\n"
   ]
  },
  {
   "cell_type": "markdown",
   "id": "7bdfd4b5-eb2e-485c-997d-22f6a97fcb2a",
   "metadata": {},
   "source": [
    "# Fine-Tune the university Chatbot Model for better Responses \n",
    "## Preprocessing the data\n",
    "### Using intents dataset from kaagle \n",
    "https://www.kaggle.com/datasets/tusharpaul2001/university-chatbot-dataset?resource=download\n"
   ]
  },
  {
   "cell_type": "code",
   "execution_count": 2,
   "id": "d66692ad-340f-41cf-ab9c-8839708a0b8d",
   "metadata": {},
   "outputs": [],
   "source": [
    "import json\n",
    "\n",
    "# Load the intents.json file\n",
    "with open(\"intents.json\", \"r\") as file:\n",
    "    data = json.load(file)\n",
    "\n",
    "\n",
    "# Extract the list of intents\n",
    "intents = data['intents']\n",
    "#print(intents)"
   ]
  },
  {
   "cell_type": "markdown",
   "id": "996ff91b-a64c-47f6-953e-2de5046f9549",
   "metadata": {},
   "source": [
    "### seprating the json data to responses and questions "
   ]
  },
  {
   "cell_type": "code",
   "execution_count": 3,
   "id": "2d18958a-19cf-4485-9024-17a910cdb2f7",
   "metadata": {},
   "outputs": [],
   "source": [
    "questions = []\n",
    "responses = []\n",
    "\n",
    "for intent in intents:\n",
    "    for text in intent[\"text\"]:\n",
    "        questions.append(text)\n",
    "    for response in intent[\"responses\"]:\n",
    "        responses.append(response)\n",
    "\n",
    "\n"
   ]
  },
  {
   "cell_type": "code",
   "execution_count": 4,
   "id": "07027df9-295f-4094-b40f-4e87e43085a9",
   "metadata": {},
   "outputs": [],
   "source": [
    "# merge back the dataset \n",
    "dataset = list(zip(questions, responses))"
   ]
  },
  {
   "cell_type": "code",
   "execution_count": 5,
   "id": "6226226e-d7ea-4d96-a8da-2f6a7a09a304",
   "metadata": {},
   "outputs": [],
   "source": [
    "#formating data\n",
    "formatted_data = [{\"input\": q, \"output\": r} for q, r in dataset]"
   ]
  },
  {
   "cell_type": "code",
   "execution_count": 6,
   "id": "677ceda9-483d-4a45-bfd2-08969e39824e",
   "metadata": {},
   "outputs": [],
   "source": [
    "#writing into the file\n",
    "import json\n",
    "\n",
    "with open(\"dataset.jsonl\", \"w\") as file:\n",
    "    for item in formatted_data:\n",
    "        file.write(json.dumps(item) + \"\\n\")"
   ]
  },
  {
   "cell_type": "code",
   "execution_count": null,
   "id": "0efd6566-8b8f-4e9d-a4fa-b32ffae5a9da",
   "metadata": {},
   "outputs": [],
   "source": []
  },
  {
   "cell_type": "code",
   "execution_count": 8,
   "id": "5acf36cb-abb6-4905-8cc0-bd054c43c63f",
   "metadata": {
    "scrolled": true
   },
   "outputs": [
    {
     "name": "stderr",
     "output_type": "stream",
     "text": [
      "You are using the default legacy behaviour of the <class 'transformers.models.t5.tokenization_t5.T5Tokenizer'>. This is expected, and simply means that the `legacy` (previous) behavior will be used so nothing changes for you. If you want to use the new behaviour, set `legacy=False`. This should only be set if you understand what it means, and thoroughly read the reason why this was added as explained in https://github.com/huggingface/transformers/pull/24565\n"
     ]
    },
    {
     "data": {
      "application/vnd.jupyter.widget-view+json": {
       "model_id": "3206f2e5edbf40a1a3f81fe3ed6db84e",
       "version_major": 2,
       "version_minor": 0
      },
      "text/plain": [
       "Generating train split: 0 examples [00:00, ? examples/s]"
      ]
     },
     "metadata": {},
     "output_type": "display_data"
    },
    {
     "data": {
      "application/vnd.jupyter.widget-view+json": {
       "model_id": "3735936f887a4566a65da26edffe8573",
       "version_major": 2,
       "version_minor": 0
      },
      "text/plain": [
       "Map:   0%|          | 0/50 [00:00<?, ? examples/s]"
      ]
     },
     "metadata": {},
     "output_type": "display_data"
    }
   ],
   "source": [
    "from transformers import T5Tokenizer, T5ForConditionalGeneration, Trainer, TrainingArguments\n",
    "\n",
    "# Load the tokenizer and model\n",
    "tokenizer = T5Tokenizer.from_pretrained(\"google/flan-t5-base\")\n",
    "model = T5ForConditionalGeneration.from_pretrained(\"google/flan-t5-base\")\n",
    "\n",
    "# Load the dataset\n",
    "from datasets import load_dataset\n",
    "dataset = load_dataset(\"json\", data_files=\"dataset.jsonl\")\n",
    "\n",
    "# Tokenize the dataset\n",
    "def preprocess_function(examples):\n",
    "    inputs = [q for q in examples[\"input\"]]\n",
    "    targets = [r for r in examples[\"output\"]]\n",
    "    \n",
    "    # Tokenize inputs and targets with padding and truncation\n",
    "    model_inputs = tokenizer(inputs, max_length=128, truncation=True, padding=\"max_length\")\n",
    "    labels = tokenizer(targets, max_length=128, truncation=True, padding=\"max_length\")\n",
    "    \n",
    "    # Add labels to the model inputs\n",
    "    model_inputs[\"labels\"] = labels[\"input_ids\"]\n",
    "    return model_inputs\n",
    "    \n",
    "tokenized_dataset = dataset.map(preprocess_function, batched=True)\n",
    "\n"
   ]
  },
  {
   "cell_type": "code",
   "execution_count": 10,
   "id": "0a6b094d-3d58-4827-ac1e-7ec596d00c87",
   "metadata": {},
   "outputs": [
    {
     "name": "stdout",
     "output_type": "stream",
     "text": [
      "Input IDs length: 128, Labels length: 128\n",
      "Input IDs length: 128, Labels length: 128\n",
      "Input IDs length: 128, Labels length: 128\n",
      "Input IDs length: 128, Labels length: 128\n",
      "Input IDs length: 128, Labels length: 128\n",
      "Input IDs length: 128, Labels length: 128\n",
      "Input IDs length: 128, Labels length: 128\n",
      "Input IDs length: 128, Labels length: 128\n",
      "Input IDs length: 128, Labels length: 128\n",
      "Input IDs length: 128, Labels length: 128\n",
      "Input IDs length: 128, Labels length: 128\n",
      "Input IDs length: 128, Labels length: 128\n",
      "Input IDs length: 128, Labels length: 128\n",
      "Input IDs length: 128, Labels length: 128\n",
      "Input IDs length: 128, Labels length: 128\n",
      "Input IDs length: 128, Labels length: 128\n",
      "Input IDs length: 128, Labels length: 128\n",
      "Input IDs length: 128, Labels length: 128\n",
      "Input IDs length: 128, Labels length: 128\n",
      "Input IDs length: 128, Labels length: 128\n",
      "Input IDs length: 128, Labels length: 128\n",
      "Input IDs length: 128, Labels length: 128\n",
      "Input IDs length: 128, Labels length: 128\n",
      "Input IDs length: 128, Labels length: 128\n",
      "Input IDs length: 128, Labels length: 128\n",
      "Input IDs length: 128, Labels length: 128\n",
      "Input IDs length: 128, Labels length: 128\n",
      "Input IDs length: 128, Labels length: 128\n",
      "Input IDs length: 128, Labels length: 128\n",
      "Input IDs length: 128, Labels length: 128\n",
      "Input IDs length: 128, Labels length: 128\n",
      "Input IDs length: 128, Labels length: 128\n",
      "Input IDs length: 128, Labels length: 128\n",
      "Input IDs length: 128, Labels length: 128\n",
      "Input IDs length: 128, Labels length: 128\n",
      "Input IDs length: 128, Labels length: 128\n",
      "Input IDs length: 128, Labels length: 128\n",
      "Input IDs length: 128, Labels length: 128\n",
      "Input IDs length: 128, Labels length: 128\n",
      "Input IDs length: 128, Labels length: 128\n",
      "Input IDs length: 128, Labels length: 128\n",
      "Input IDs length: 128, Labels length: 128\n",
      "Input IDs length: 128, Labels length: 128\n",
      "Input IDs length: 128, Labels length: 128\n",
      "Input IDs length: 128, Labels length: 128\n",
      "Input IDs length: 128, Labels length: 128\n",
      "Input IDs length: 128, Labels length: 128\n",
      "Input IDs length: 128, Labels length: 128\n",
      "Input IDs length: 128, Labels length: 128\n",
      "Input IDs length: 128, Labels length: 128\n"
     ]
    }
   ],
   "source": [
    "# Debug: Check lengths (truncate error)\n",
    "for example in tokenized_dataset[\"train\"]:\n",
    "    print(f\"Input IDs length: {len(example['input_ids'])}, Labels length: {len(example['labels'])}\")\n"
   ]
  },
  {
   "cell_type": "markdown",
   "id": "0ad663d8-e66a-48d6-8dd0-254f60ac2606",
   "metadata": {},
   "source": [
    "## Training The model "
   ]
  },
  {
   "cell_type": "code",
   "execution_count": 11,
   "id": "77abed7a-f74e-4809-b193-8397f090d4a1",
   "metadata": {},
   "outputs": [
    {
     "name": "stderr",
     "output_type": "stream",
     "text": [
      "Passing a tuple of `past_key_values` is deprecated and will be removed in Transformers v4.48.0. You should pass an instance of `EncoderDecoderCache` instead, e.g. `past_key_values=EncoderDecoderCache.from_legacy_cache(past_key_values)`.\n"
     ]
    },
    {
     "data": {
      "text/html": [
       "\n",
       "    <div>\n",
       "      \n",
       "      <progress value='21' max='21' style='width:300px; height:20px; vertical-align: middle;'></progress>\n",
       "      [21/21 07:21, Epoch 3/3]\n",
       "    </div>\n",
       "    <table border=\"1\" class=\"dataframe\">\n",
       "  <thead>\n",
       " <tr style=\"text-align: left;\">\n",
       "      <th>Step</th>\n",
       "      <th>Training Loss</th>\n",
       "    </tr>\n",
       "  </thead>\n",
       "  <tbody>\n",
       "  </tbody>\n",
       "</table><p>"
      ],
      "text/plain": [
       "<IPython.core.display.HTML object>"
      ]
     },
     "metadata": {},
     "output_type": "display_data"
    },
    {
     "data": {
      "text/plain": [
       "TrainOutput(global_step=21, training_loss=29.35618663969494, metrics={'train_runtime': 470.3378, 'train_samples_per_second': 0.319, 'train_steps_per_second': 0.045, 'total_flos': 25678400716800.0, 'train_loss': 29.35618663969494, 'epoch': 3.0})"
      ]
     },
     "execution_count": 11,
     "metadata": {},
     "output_type": "execute_result"
    }
   ],
   "source": [
    "\n",
    "# Define training arguments\n",
    "training_args = TrainingArguments(\n",
    "    output_dir=\"./results\",\n",
    "    per_device_train_batch_size=8,\n",
    "    num_train_epochs=3,\n",
    "    save_steps=10_000,\n",
    "    save_total_limit=2,\n",
    ")\n",
    "\n",
    "# Initialize the Trainer\n",
    "trainer = Trainer(\n",
    "    model=model,\n",
    "    args=training_args,\n",
    "    train_dataset=tokenized_dataset[\"train\"],\n",
    ")\n",
    "\n",
    "# Fine-tune the model\n",
    "trainer.train()"
   ]
  },
  {
   "cell_type": "markdown",
   "id": "18b2ff8a-de29-460b-8b02-6498c52937e1",
   "metadata": {},
   "source": [
    "### Saving the model"
   ]
  },
  {
   "cell_type": "code",
   "execution_count": 12,
   "id": "ca7f3523-3074-474b-9f79-b136fb5a1c59",
   "metadata": {},
   "outputs": [
    {
     "data": {
      "text/plain": [
       "('./fine-tuned-model\\\\tokenizer_config.json',\n",
       " './fine-tuned-model\\\\special_tokens_map.json',\n",
       " './fine-tuned-model\\\\spiece.model',\n",
       " './fine-tuned-model\\\\added_tokens.json')"
      ]
     },
     "execution_count": 12,
     "metadata": {},
     "output_type": "execute_result"
    }
   ],
   "source": [
    "model.save_pretrained(\"./fine-tuned-model\")\n",
    "tokenizer.save_pretrained(\"./fine-tuned-model\")"
   ]
  },
  {
   "cell_type": "markdown",
   "id": "118cc387-a1a2-478f-a5e6-a36534c9ce14",
   "metadata": {},
   "source": [
    "### UI stuff using gradio"
   ]
  },
  {
   "cell_type": "code",
   "execution_count": 20,
   "id": "4835a4d6-b333-49f5-a1e1-7e2a6265f811",
   "metadata": {},
   "outputs": [],
   "source": [
    "conversation_history = []\n",
    "\n",
    "def generate_response(user_input, history):\n",
    "    # Combine history and current input\n",
    "    full_input = \" \".join(history + [user_input])\n",
    "    input_ids = tokenizer(full_input, return_tensors=\"pt\").input_ids\n",
    "    outputs = model.generate(input_ids, max_length=128, num_beams=5, early_stopping=True)\n",
    "    response = tokenizer.decode(outputs[0], skip_special_tokens=True)\n",
    "    history.append(user_input)\n",
    "    history.append(response)\n",
    "    return response, history\n",
    "\n",
    "def chat():\n",
    "    print(\"Welcome to the University Customer Support Chatbot! Type 'exit' to end the chat.\")\n",
    "    history = []\n",
    "    while True:\n",
    "        user_input = input(\"You: \")\n",
    "        if user_input.lower() == \"exit\":\n",
    "            print(\"Chatbot: Goodbye!\")\n",
    "            break\n",
    "        response, history = generate_response(user_input, history)\n",
    "        print(f\"Chatbot: {response}\")"
   ]
  },
  {
   "cell_type": "code",
   "execution_count": 21,
   "id": "ec3f2c39-12f0-4b65-967f-e7a133b41925",
   "metadata": {},
   "outputs": [
    {
     "name": "stdout",
     "output_type": "stream",
     "text": [
      "Welcome to the University Customer Support Chatbot! Type 'exit' to end the chat.\n"
     ]
    },
    {
     "name": "stdin",
     "output_type": "stream",
     "text": [
      "You:  hey\n"
     ]
    },
    {
     "name": "stdout",
     "output_type": "stream",
     "text": [
      "Chatbot: hey hey hey hey\n"
     ]
    },
    {
     "name": "stdin",
     "output_type": "stream",
     "text": [
      "You:   What are the admission requirements?\n"
     ]
    },
    {
     "name": "stdout",
     "output_type": "stream",
     "text": [
      "Chatbot: a high school diploma or equivalent\n"
     ]
    },
    {
     "name": "stdin",
     "output_type": "stream",
     "text": [
      "You:  exit\n"
     ]
    },
    {
     "name": "stdout",
     "output_type": "stream",
     "text": [
      "Chatbot: Goodbye!\n"
     ]
    }
   ],
   "source": [
    "# Run the chat\n",
    "if __name__ == \"__main__\":\n",
    "    chat()"
   ]
  },
  {
   "cell_type": "code",
   "execution_count": 22,
   "id": "3c43ac7f-77e6-46f9-a743-0da1c6b6846c",
   "metadata": {},
   "outputs": [
    {
     "name": "stderr",
     "output_type": "stream",
     "text": [
      "C:\\Users\\hp\\AppData\\Roaming\\Python\\Python312\\site-packages\\gradio\\components\\chatbot.py:288: UserWarning: The 'tuples' format for chatbot messages is deprecated and will be removed in a future version of Gradio. Please set type='messages' instead, which uses openai-style 'role' and 'content' keys.\n",
      "  warnings.warn(\n"
     ]
    },
    {
     "name": "stdout",
     "output_type": "stream",
     "text": [
      "* Running on local URL:  http://127.0.0.1:7863\n",
      "\n",
      "To create a public link, set `share=True` in `launch()`.\n"
     ]
    },
    {
     "data": {
      "text/html": [
       "<div><iframe src=\"http://127.0.0.1:7863/\" width=\"100%\" height=\"500\" allow=\"autoplay; camera; microphone; clipboard-read; clipboard-write;\" frameborder=\"0\" allowfullscreen></iframe></div>"
      ],
      "text/plain": [
       "<IPython.core.display.HTML object>"
      ]
     },
     "metadata": {},
     "output_type": "display_data"
    },
    {
     "data": {
      "text/plain": []
     },
     "execution_count": 22,
     "metadata": {},
     "output_type": "execute_result"
    },
    {
     "name": "stderr",
     "output_type": "stream",
     "text": [
      "C:\\Users\\hp\\AppData\\Roaming\\Python\\Python312\\site-packages\\transformers\\generation\\configuration_utils.py:628: UserWarning: `do_sample` is set to `False`. However, `temperature` is set to `0.7` -- this flag is only used in sample-based generation modes. You should set `do_sample=True` or unset `temperature`.\n",
      "  warnings.warn(\n",
      "C:\\Users\\hp\\AppData\\Roaming\\Python\\Python312\\site-packages\\transformers\\generation\\configuration_utils.py:633: UserWarning: `do_sample` is set to `False`. However, `top_p` is set to `0.95` -- this flag is only used in sample-based generation modes. You should set `do_sample=True` or unset `top_p`.\n",
      "  warnings.warn(\n"
     ]
    }
   ],
   "source": [
    "import gradio as gr\n",
    "\n",
    "# Function to generate responses\n",
    "def generate_response(user_input):\n",
    "    try:\n",
    "        # Add context to the input\n",
    "        prompt = \"Answer the following question about university admissions: \"\n",
    "        input_text = prompt + user_input\n",
    "\n",
    "        # Tokenize the input\n",
    "        input_ids = tokenizer(input_text, return_tensors=\"pt\").input_ids\n",
    "\n",
    "        # Generate the output\n",
    "        outputs = model.generate(\n",
    "            input_ids,\n",
    "            max_length=128,\n",
    "            num_beams=5,\n",
    "            early_stopping=True,\n",
    "            temperature=0.7,\n",
    "            top_k=50,\n",
    "            top_p=0.95,\n",
    "        )\n",
    "        response = tokenizer.decode(outputs[0], skip_special_tokens=True)\n",
    "\n",
    "        # Fallback for short or generic responses\n",
    "        if len(response.split()) < 5:\n",
    "            response = \"I'm sorry, I couldn't find a detailed answer. Please visit our admissions page or contact the admissions office for more information.\"\n",
    "\n",
    "        return response\n",
    "    except Exception as e:\n",
    "        return \"An error occurred. Please try again later.\"\n",
    "\n",
    "# Gradio chat interface function\n",
    "def respond(message, history):\n",
    "    response = generate_response(message)\n",
    "    return response\n",
    "\n",
    "# Create a Gradio ChatInterface\n",
    "interface = gr.ChatInterface(\n",
    "    fn=respond,\n",
    "    title=\"University Customer Support Chatbot\",\n",
    "    description=\"Ask me anything about admissions, courses, or campus life!\",\n",
    "    examples=[\n",
    "        \"What are the admission requirements?\",\n",
    "        \"Do I need to submit SAT scores for admission?\",\n",
    "        \"What is the minimum GPA required for admission?\"\n",
    "    ]\n",
    ")\n",
    "\n",
    "# Launch the interface\n",
    "interface.launch()"
   ]
  },
  {
   "cell_type": "code",
   "execution_count": null,
   "id": "48ff8bb9-d5c5-4e3f-8a0e-65b851e4b36c",
   "metadata": {},
   "outputs": [],
   "source": []
  }
 ],
 "metadata": {
  "kernelspec": {
   "display_name": "Python 3 (ipykernel)",
   "language": "python",
   "name": "python3"
  },
  "language_info": {
   "codemirror_mode": {
    "name": "ipython",
    "version": 3
   },
   "file_extension": ".py",
   "mimetype": "text/x-python",
   "name": "python",
   "nbconvert_exporter": "python",
   "pygments_lexer": "ipython3",
   "version": "3.12.6"
  }
 },
 "nbformat": 4,
 "nbformat_minor": 5
}
